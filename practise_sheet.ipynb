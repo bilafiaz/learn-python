{
 "cells": [
  {
   "cell_type": "markdown",
   "id": "d0211cdc",
   "metadata": {},
   "source": [
    "# AND Operators in python"
   ]
  },
  {
   "cell_type": "code",
   "execution_count": 11,
   "id": "d9cd5de6",
   "metadata": {},
   "outputs": [],
   "source": [
    "a=5"
   ]
  },
  {
   "cell_type": "code",
   "execution_count": 12,
   "id": "a122123c",
   "metadata": {},
   "outputs": [],
   "source": [
    "b=6"
   ]
  },
  {
   "cell_type": "code",
   "execution_count": 14,
   "id": "d635fc4d",
   "metadata": {},
   "outputs": [
    {
     "name": "stdout",
     "output_type": "stream",
     "text": [
      "True\n"
     ]
    }
   ],
   "source": [
    "print(a!=b and a<b)"
   ]
  },
  {
   "cell_type": "markdown",
   "id": "f45aaae2",
   "metadata": {},
   "source": [
    "# OR operators in python"
   ]
  },
  {
   "cell_type": "code",
   "execution_count": 15,
   "id": "ba1349e0",
   "metadata": {},
   "outputs": [],
   "source": [
    "x=5"
   ]
  },
  {
   "cell_type": "code",
   "execution_count": 16,
   "id": "bad9cf0a",
   "metadata": {},
   "outputs": [],
   "source": [
    "y=9"
   ]
  },
  {
   "cell_type": "code",
   "execution_count": 19,
   "id": "fc5c2aa3",
   "metadata": {},
   "outputs": [
    {
     "name": "stdout",
     "output_type": "stream",
     "text": [
      "True\n"
     ]
    }
   ],
   "source": [
    "print(x !=y or x>y)"
   ]
  },
  {
   "cell_type": "markdown",
   "id": "8e2afc63",
   "metadata": {},
   "source": [
    "# NOT Operators in python"
   ]
  },
  {
   "cell_type": "code",
   "execution_count": 20,
   "id": "963f127c",
   "metadata": {},
   "outputs": [],
   "source": [
    "m=8"
   ]
  },
  {
   "cell_type": "code",
   "execution_count": 21,
   "id": "463088de",
   "metadata": {},
   "outputs": [],
   "source": [
    "b=7"
   ]
  },
  {
   "cell_type": "code",
   "execution_count": 22,
   "id": "3d752b22",
   "metadata": {},
   "outputs": [
    {
     "name": "stdout",
     "output_type": "stream",
     "text": [
      "True\n"
     ]
    }
   ],
   "source": [
    "print(not m<b)"
   ]
  },
  {
   "cell_type": "markdown",
   "id": "e663224c",
   "metadata": {},
   "source": [
    "# If Else Statements"
   ]
  },
  {
   "cell_type": "code",
   "execution_count": 23,
   "id": "2d9146e6",
   "metadata": {},
   "outputs": [
    {
     "name": "stdout",
     "output_type": "stream",
     "text": [
      "a and b are equal\n"
     ]
    }
   ],
   "source": [
    "a = 33\n",
    "b = 33\n",
    "if b > a:\n",
    "  print(\"b is greater than a\")\n",
    "elif a == b:\n",
    "  print(\"a and b are equal\")"
   ]
  },
  {
   "cell_type": "markdown",
   "id": "ec09d8ed",
   "metadata": {},
   "source": [
    "# If Elif Statements"
   ]
  },
  {
   "cell_type": "code",
   "execution_count": 11,
   "id": "b5d05194",
   "metadata": {},
   "outputs": [
    {
     "name": "stdout",
     "output_type": "stream",
     "text": [
      "a and b are equal\n"
     ]
    }
   ],
   "source": [
    "a = 33\n",
    "b = 33\n",
    "if b > a:\n",
    "  print(\"b is greater than a\")\n",
    "elif a == b:\n",
    "  print(\"a and b are equal\")"
   ]
  },
  {
   "cell_type": "markdown",
   "id": "b51b4449",
   "metadata": {},
   "source": [
    "# list  in python"
   ]
  },
  {
   "cell_type": "code",
   "execution_count": 3,
   "id": "f720518c",
   "metadata": {},
   "outputs": [],
   "source": [
    "a=[\"apple\",\"banana\",\"rice\"]"
   ]
  },
  {
   "cell_type": "code",
   "execution_count": 4,
   "id": "21236c7c",
   "metadata": {},
   "outputs": [],
   "source": [
    "b=[\"almonds\"]"
   ]
  },
  {
   "cell_type": "code",
   "execution_count": 5,
   "id": "85fcc547",
   "metadata": {},
   "outputs": [],
   "source": [
    "a.append(b)"
   ]
  },
  {
   "cell_type": "code",
   "execution_count": 6,
   "id": "c5339a24",
   "metadata": {},
   "outputs": [
    {
     "name": "stdout",
     "output_type": "stream",
     "text": [
      "['apple', 'banana', 'rice', ['almonds']]\n"
     ]
    }
   ],
   "source": [
    "print(a)"
   ]
  },
  {
   "cell_type": "code",
   "execution_count": 12,
   "id": "92103742",
   "metadata": {},
   "outputs": [],
   "source": [
    "a=[\"apple\",\"banana\",\"rice\"]"
   ]
  },
  {
   "cell_type": "code",
   "execution_count": null,
   "id": "60d3c483",
   "metadata": {},
   "outputs": [],
   "source": [
    "a[1]=\"almonds\""
   ]
  },
  {
   "cell_type": "code",
   "execution_count": 13,
   "id": "ce7f3e22",
   "metadata": {},
   "outputs": [
    {
     "name": "stdout",
     "output_type": "stream",
     "text": [
      "['apple', 'banana', 'rice']\n"
     ]
    }
   ],
   "source": [
    "print(a)"
   ]
  },
  {
   "cell_type": "markdown",
   "id": "9c09dabc",
   "metadata": {},
   "source": [
    "# Insert in python"
   ]
  },
  {
   "cell_type": "code",
   "execution_count": 41,
   "id": "d73a247e",
   "metadata": {},
   "outputs": [],
   "source": [
    "a=[1,2,3,4,5,6,7,8,9,10]"
   ]
  },
  {
   "cell_type": "code",
   "execution_count": 42,
   "id": "a989f159",
   "metadata": {},
   "outputs": [],
   "source": [
    "a.insert(0,100)"
   ]
  },
  {
   "cell_type": "code",
   "execution_count": 43,
   "id": "37900867",
   "metadata": {},
   "outputs": [
    {
     "name": "stdout",
     "output_type": "stream",
     "text": [
      "[100, 1, 2, 3, 4, 5, 6, 7, 8, 9, 10]\n"
     ]
    }
   ],
   "source": [
    "print(a)"
   ]
  },
  {
   "cell_type": "markdown",
   "id": "24d80d0d",
   "metadata": {},
   "source": [
    "# append in python"
   ]
  },
  {
   "cell_type": "code",
   "execution_count": null,
   "id": "cc8bfdb7",
   "metadata": {},
   "outputs": [],
   "source": [
    "a=[1,2,3,4,5,6,7,8,9,10]"
   ]
  },
  {
   "cell_type": "code",
   "execution_count": 44,
   "id": "e879279b",
   "metadata": {},
   "outputs": [],
   "source": [
    "a.append(56)"
   ]
  },
  {
   "cell_type": "code",
   "execution_count": 45,
   "id": "3da249b0",
   "metadata": {},
   "outputs": [
    {
     "name": "stdout",
     "output_type": "stream",
     "text": [
      "[100, 1, 2, 3, 4, 5, 6, 7, 8, 9, 10, 56]\n"
     ]
    }
   ],
   "source": [
    "print(a)"
   ]
  },
  {
   "cell_type": "markdown",
   "id": "25556f2e",
   "metadata": {},
   "source": [
    "# Extend in python"
   ]
  },
  {
   "cell_type": "code",
   "execution_count": 51,
   "id": "c88cd9c5",
   "metadata": {},
   "outputs": [],
   "source": [
    "y=[\"apple\",\"banana\",\"rice\"]"
   ]
  },
  {
   "cell_type": "code",
   "execution_count": 52,
   "id": "62a07577",
   "metadata": {},
   "outputs": [],
   "source": [
    "y.extend(\"milk\")"
   ]
  },
  {
   "cell_type": "code",
   "execution_count": 53,
   "id": "a06ebf8b",
   "metadata": {},
   "outputs": [
    {
     "name": "stdout",
     "output_type": "stream",
     "text": [
      "['apple', 'banana', 'rice', 'm', 'i', 'l', 'k']\n"
     ]
    }
   ],
   "source": [
    "print(y)"
   ]
  },
  {
   "cell_type": "markdown",
   "id": "5eaf8872",
   "metadata": {},
   "source": [
    "# sort in python"
   ]
  },
  {
   "cell_type": "code",
   "execution_count": 60,
   "id": "82903685",
   "metadata": {},
   "outputs": [],
   "source": [
    "cars = ['Ford', 'BMW', 'Volvo']\n",
    "\n",
    "cars.sort()"
   ]
  },
  {
   "cell_type": "code",
   "execution_count": 61,
   "id": "c7408730",
   "metadata": {},
   "outputs": [
    {
     "name": "stdout",
     "output_type": "stream",
     "text": [
      "['BMW', 'Ford', 'Volvo']\n"
     ]
    }
   ],
   "source": [
    "print(cars)"
   ]
  },
  {
   "cell_type": "markdown",
   "id": "fbcfe30c",
   "metadata": {},
   "source": [
    "# Upper,Lower,Title & capatilize"
   ]
  },
  {
   "cell_type": "code",
   "execution_count": 7,
   "id": "3b426ca0",
   "metadata": {},
   "outputs": [
    {
     "name": "stdout",
     "output_type": "stream",
     "text": [
      "HELLO MY FRIENDS\n"
     ]
    }
   ],
   "source": [
    "txt = \"Hello my friends\"\n",
    "x = txt.upper()\n",
    "print(x)"
   ]
  },
  {
   "cell_type": "code",
   "execution_count": 8,
   "id": "9487cc36",
   "metadata": {},
   "outputs": [
    {
     "name": "stdout",
     "output_type": "stream",
     "text": [
      "hello my friends\n"
     ]
    }
   ],
   "source": [
    "x = txt.lower()\n",
    "print(x)"
   ]
  },
  {
   "cell_type": "code",
   "execution_count": 9,
   "id": "cc3e5ed8",
   "metadata": {},
   "outputs": [
    {
     "name": "stdout",
     "output_type": "stream",
     "text": [
      "Hello My Friends\n"
     ]
    }
   ],
   "source": [
    "x = txt.title()\n",
    "print(x)"
   ]
  },
  {
   "cell_type": "code",
   "execution_count": null,
   "id": "64aac4de",
   "metadata": {},
   "outputs": [],
   "source": []
  },
  {
   "cell_type": "markdown",
   "id": "ce82a274",
   "metadata": {},
   "source": [
    "# Tuple in python"
   ]
  },
  {
   "cell_type": "code",
   "execution_count": 14,
   "id": "dcc1127f",
   "metadata": {},
   "outputs": [],
   "source": [
    "a=(\"apple\",\"banana\")"
   ]
  },
  {
   "cell_type": "code",
   "execution_count": 15,
   "id": "1216014e",
   "metadata": {},
   "outputs": [
    {
     "ename": "TypeError",
     "evalue": "'tuple' object does not support item assignment",
     "output_type": "error",
     "traceback": [
      "\u001b[1;31m---------------------------------------------------------------------------\u001b[0m",
      "\u001b[1;31mTypeError\u001b[0m                                 Traceback (most recent call last)",
      "Cell \u001b[1;32mIn[15], line 1\u001b[0m\n\u001b[1;32m----> 1\u001b[0m a[\u001b[38;5;241m1\u001b[39m]\u001b[38;5;241m=\u001b[39m\u001b[38;5;124m\"\u001b[39m\u001b[38;5;124mrice\u001b[39m\u001b[38;5;124m\"\u001b[39m\n",
      "\u001b[1;31mTypeError\u001b[0m: 'tuple' object does not support item assignment"
     ]
    }
   ],
   "source": [
    "a[1]=\"rice\""
   ]
  },
  {
   "cell_type": "markdown",
   "id": "e06cb2a6",
   "metadata": {},
   "source": [
    "# Dictionory in python"
   ]
  },
  {
   "cell_type": "code",
   "execution_count": 16,
   "id": "1c6475d2",
   "metadata": {},
   "outputs": [],
   "source": [
    "dict_1={\"first_name\":\"bilal\",\n",
    "       \"last_name\":\"hassan\",\n",
    "       \"phone_no\":\"03224230847\"}"
   ]
  },
  {
   "cell_type": "code",
   "execution_count": 17,
   "id": "e4c3089e",
   "metadata": {},
   "outputs": [
    {
     "data": {
      "text/plain": [
       "dict_values(['bilal', 'hassan', '03224230847'])"
      ]
     },
     "execution_count": 17,
     "metadata": {},
     "output_type": "execute_result"
    }
   ],
   "source": [
    "dict_1.values()"
   ]
  },
  {
   "cell_type": "code",
   "execution_count": 18,
   "id": "18862add",
   "metadata": {},
   "outputs": [
    {
     "data": {
      "text/plain": [
       "dict_keys(['first_name', 'last_name', 'phone_no'])"
      ]
     },
     "execution_count": 18,
     "metadata": {},
     "output_type": "execute_result"
    }
   ],
   "source": [
    "dict_1.keys()"
   ]
  },
  {
   "cell_type": "markdown",
   "id": "ba9a40c3",
   "metadata": {},
   "source": [
    "# Silicing in python positive and negative both"
   ]
  },
  {
   "cell_type": "code",
   "execution_count": 21,
   "id": "cf3c8a87",
   "metadata": {},
   "outputs": [],
   "source": [
    "a=[1,5,4,7,8,9,7,5,4,3,6,]"
   ]
  },
  {
   "cell_type": "code",
   "execution_count": 23,
   "id": "19a293f5",
   "metadata": {},
   "outputs": [
    {
     "name": "stdout",
     "output_type": "stream",
     "text": [
      "[5, 4, 7, 8]\n"
     ]
    }
   ],
   "source": [
    "print(a[1:5])"
   ]
  },
  {
   "cell_type": "code",
   "execution_count": 24,
   "id": "d3364465",
   "metadata": {},
   "outputs": [
    {
     "name": "stdout",
     "output_type": "stream",
     "text": [
      "[1, 5, 4, 7, 8, 9, 7, 5, 4, 3, 6]\n"
     ]
    }
   ],
   "source": [
    "print(a[:])"
   ]
  },
  {
   "cell_type": "code",
   "execution_count": 25,
   "id": "2ed5e069",
   "metadata": {},
   "outputs": [
    {
     "name": "stdout",
     "output_type": "stream",
     "text": [
      "[5, 4, 7, 8, 9, 7, 5, 4, 3, 6]\n"
     ]
    }
   ],
   "source": [
    "print(a[1:])"
   ]
  },
  {
   "cell_type": "code",
   "execution_count": 27,
   "id": "5a8edae7",
   "metadata": {},
   "outputs": [
    {
     "name": "stdout",
     "output_type": "stream",
     "text": [
      "[1, 5, 4, 7, 8, 9, 7, 5, 4, 3]\n"
     ]
    }
   ],
   "source": [
    "print(a[:-1])"
   ]
  },
  {
   "cell_type": "code",
   "execution_count": 28,
   "id": "1a876570",
   "metadata": {},
   "outputs": [
    {
     "name": "stdout",
     "output_type": "stream",
     "text": [
      "[4, 3, 6]\n"
     ]
    }
   ],
   "source": [
    "print(a[-3:])"
   ]
  },
  {
   "cell_type": "markdown",
   "id": "b52a1f28",
   "metadata": {},
   "source": [
    "# For loop in python"
   ]
  },
  {
   "cell_type": "code",
   "execution_count": 31,
   "id": "ab93bead",
   "metadata": {},
   "outputs": [
    {
     "name": "stdout",
     "output_type": "stream",
     "text": [
      "0\n",
      "1\n",
      "2\n",
      "3\n",
      "4\n",
      "5\n",
      "6\n",
      "7\n",
      "8\n",
      "9\n"
     ]
    }
   ],
   "source": [
    "for a in range(0,10):\n",
    "    print(a)"
   ]
  },
  {
   "cell_type": "code",
   "execution_count": 37,
   "id": "fc26550a",
   "metadata": {},
   "outputs": [
    {
     "name": "stdout",
     "output_type": "stream",
     "text": [
      "0\n",
      "3\n",
      "6\n",
      "9\n",
      "12\n",
      "15\n",
      "18\n",
      "21\n",
      "24\n",
      "27\n"
     ]
    }
   ],
   "source": [
    "for a in range(0,30,3):\n",
    "    print(a)"
   ]
  },
  {
   "cell_type": "code",
   "execution_count": 39,
   "id": "5c268c1b",
   "metadata": {},
   "outputs": [
    {
     "name": "stdout",
     "output_type": "stream",
     "text": [
      "table of 2\n",
      "2 * 1 = 2\n",
      "2 * 2 = 4\n",
      "2 * 3 = 6\n",
      "2 * 4 = 8\n",
      "2 * 5 = 10\n",
      "2 * 6 = 12\n",
      "2 * 7 = 14\n",
      "2 * 8 = 16\n",
      "2 * 9 = 18\n",
      "2 * 10 = 20\n",
      "table of 3\n",
      "3 * 1 = 3\n",
      "3 * 2 = 6\n",
      "3 * 3 = 9\n",
      "3 * 4 = 12\n",
      "3 * 5 = 15\n",
      "3 * 6 = 18\n",
      "3 * 7 = 21\n",
      "3 * 8 = 24\n",
      "3 * 9 = 27\n",
      "3 * 10 = 30\n",
      "table of 4\n",
      "4 * 1 = 4\n",
      "4 * 2 = 8\n",
      "4 * 3 = 12\n",
      "4 * 4 = 16\n",
      "4 * 5 = 20\n",
      "4 * 6 = 24\n",
      "4 * 7 = 28\n",
      "4 * 8 = 32\n",
      "4 * 9 = 36\n",
      "4 * 10 = 40\n",
      "table of 5\n",
      "5 * 1 = 5\n",
      "5 * 2 = 10\n",
      "5 * 3 = 15\n",
      "5 * 4 = 20\n",
      "5 * 5 = 25\n",
      "5 * 6 = 30\n",
      "5 * 7 = 35\n",
      "5 * 8 = 40\n",
      "5 * 9 = 45\n",
      "5 * 10 = 50\n"
     ]
    }
   ],
   "source": [
    "for temp in range(2, 6):\n",
    "    print(f\"table of {temp}\")\n",
    "    for temp_2 in range(1, 11):\n",
    "        print(f\"{temp} * {temp_2} = {temp * temp_2}\")"
   ]
  },
  {
   "cell_type": "markdown",
   "id": "a963c117",
   "metadata": {},
   "source": [
    "# While loop in python"
   ]
  },
  {
   "cell_type": "code",
   "execution_count": 38,
   "id": "b25e86b1",
   "metadata": {},
   "outputs": [
    {
     "name": "stdout",
     "output_type": "stream",
     "text": [
      "1\n",
      "2\n",
      "3\n",
      "4\n",
      "5\n",
      "i is no longer less than 6\n"
     ]
    }
   ],
   "source": [
    "i = 1\n",
    "while i < 6:\n",
    "  print(i)\n",
    "  i += 1\n",
    "else:\n",
    "  print(\"i is no longer less than 6\")"
   ]
  },
  {
   "cell_type": "markdown",
   "id": "8d99d01f",
   "metadata": {},
   "source": [
    "# List compression in python"
   ]
  },
  {
   "cell_type": "code",
   "execution_count": 6,
   "id": "c74f0473",
   "metadata": {},
   "outputs": [],
   "source": [
    "grocerry_list=[\"mango\",\"banana\",\"carrot\",\"apple\",\"rice\",\"pulses\",\"shugar\"]\n",
    "new_list=[x for x in fruits_list if \"c\" in x ]"
   ]
  },
  {
   "cell_type": "code",
   "execution_count": 8,
   "id": "b24d9d7c",
   "metadata": {},
   "outputs": [
    {
     "name": "stdout",
     "output_type": "stream",
     "text": [
      "['carrot']\n"
     ]
    }
   ],
   "source": [
    "print(new_list)"
   ]
  },
  {
   "cell_type": "markdown",
   "id": "338e89a0",
   "metadata": {},
   "source": [
    "# lambda functions in python"
   ]
  },
  {
   "cell_type": "code",
   "execution_count": 9,
   "id": "d43b98ff",
   "metadata": {},
   "outputs": [],
   "source": [
    "x=lambda a,b:a+b"
   ]
  },
  {
   "cell_type": "code",
   "execution_count": 10,
   "id": "6438dd4f",
   "metadata": {},
   "outputs": [
    {
     "name": "stdout",
     "output_type": "stream",
     "text": [
      "11\n"
     ]
    }
   ],
   "source": [
    "print(x(5,6))"
   ]
  },
  {
   "cell_type": "markdown",
   "id": "b523ce85",
   "metadata": {},
   "source": [
    "# Object Oriented language(Class,Object)"
   ]
  },
  {
   "cell_type": "code",
   "execution_count": 1,
   "id": "5b132156",
   "metadata": {},
   "outputs": [
    {
     "data": {
      "text/plain": [
       "['__add__',\n",
       " '__class__',\n",
       " '__contains__',\n",
       " '__delattr__',\n",
       " '__dir__',\n",
       " '__doc__',\n",
       " '__eq__',\n",
       " '__format__',\n",
       " '__ge__',\n",
       " '__getattribute__',\n",
       " '__getitem__',\n",
       " '__getnewargs__',\n",
       " '__getstate__',\n",
       " '__gt__',\n",
       " '__hash__',\n",
       " '__init__',\n",
       " '__init_subclass__',\n",
       " '__iter__',\n",
       " '__le__',\n",
       " '__len__',\n",
       " '__lt__',\n",
       " '__mod__',\n",
       " '__mul__',\n",
       " '__ne__',\n",
       " '__new__',\n",
       " '__reduce__',\n",
       " '__reduce_ex__',\n",
       " '__repr__',\n",
       " '__rmod__',\n",
       " '__rmul__',\n",
       " '__setattr__',\n",
       " '__sizeof__',\n",
       " '__str__',\n",
       " '__subclasshook__',\n",
       " 'capitalize',\n",
       " 'casefold',\n",
       " 'center',\n",
       " 'count',\n",
       " 'encode',\n",
       " 'endswith',\n",
       " 'expandtabs',\n",
       " 'find',\n",
       " 'format',\n",
       " 'format_map',\n",
       " 'index',\n",
       " 'isalnum',\n",
       " 'isalpha',\n",
       " 'isascii',\n",
       " 'isdecimal',\n",
       " 'isdigit',\n",
       " 'isidentifier',\n",
       " 'islower',\n",
       " 'isnumeric',\n",
       " 'isprintable',\n",
       " 'isspace',\n",
       " 'istitle',\n",
       " 'isupper',\n",
       " 'join',\n",
       " 'ljust',\n",
       " 'lower',\n",
       " 'lstrip',\n",
       " 'maketrans',\n",
       " 'partition',\n",
       " 'removeprefix',\n",
       " 'removesuffix',\n",
       " 'replace',\n",
       " 'rfind',\n",
       " 'rindex',\n",
       " 'rjust',\n",
       " 'rpartition',\n",
       " 'rsplit',\n",
       " 'rstrip',\n",
       " 'split',\n",
       " 'splitlines',\n",
       " 'startswith',\n",
       " 'strip',\n",
       " 'swapcase',\n",
       " 'title',\n",
       " 'translate',\n",
       " 'upper',\n",
       " 'zfill']"
      ]
     },
     "execution_count": 1,
     "metadata": {},
     "output_type": "execute_result"
    }
   ],
   "source": [
    "a=\"hy\"\n",
    "dir(a)"
   ]
  },
  {
   "cell_type": "code",
   "execution_count": 2,
   "id": "dba8c52d",
   "metadata": {},
   "outputs": [
    {
     "data": {
      "text/plain": [
       "['__add__',\n",
       " '__class__',\n",
       " '__class_getitem__',\n",
       " '__contains__',\n",
       " '__delattr__',\n",
       " '__delitem__',\n",
       " '__dir__',\n",
       " '__doc__',\n",
       " '__eq__',\n",
       " '__format__',\n",
       " '__ge__',\n",
       " '__getattribute__',\n",
       " '__getitem__',\n",
       " '__getstate__',\n",
       " '__gt__',\n",
       " '__hash__',\n",
       " '__iadd__',\n",
       " '__imul__',\n",
       " '__init__',\n",
       " '__init_subclass__',\n",
       " '__iter__',\n",
       " '__le__',\n",
       " '__len__',\n",
       " '__lt__',\n",
       " '__mul__',\n",
       " '__ne__',\n",
       " '__new__',\n",
       " '__reduce__',\n",
       " '__reduce_ex__',\n",
       " '__repr__',\n",
       " '__reversed__',\n",
       " '__rmul__',\n",
       " '__setattr__',\n",
       " '__setitem__',\n",
       " '__sizeof__',\n",
       " '__str__',\n",
       " '__subclasshook__',\n",
       " 'append',\n",
       " 'clear',\n",
       " 'copy',\n",
       " 'count',\n",
       " 'extend',\n",
       " 'index',\n",
       " 'insert',\n",
       " 'pop',\n",
       " 'remove',\n",
       " 'reverse',\n",
       " 'sort']"
      ]
     },
     "execution_count": 2,
     "metadata": {},
     "output_type": "execute_result"
    }
   ],
   "source": [
    "a=[1,2,3]\n",
    "dir(a)"
   ]
  },
  {
   "cell_type": "code",
   "execution_count": 76,
   "id": "d09f7c5d",
   "metadata": {},
   "outputs": [],
   "source": [
    "class team():\n",
    "    def __init__(self,first_name,last_name,age):\n",
    "        self.first_name = first_name\n",
    "        self.last_name = last_name\n",
    "        self.age = age\n",
    "    def age(self):\n",
    "        if self.age>10:\n",
    "            print(f\"{self.first_name},{self.last_name} player is ok {self.age}\")\n",
    "        else:\n",
    "            print(f\"{self.first_name},{self.last_name} player is not ok {self.age}\")\n",
    "    def change_name(self, update_first_name):\n",
    "        self.first_name = update_first_name"
   ]
  },
  {
   "cell_type": "code",
   "execution_count": 77,
   "id": "17a6b1d2",
   "metadata": {},
   "outputs": [],
   "source": [
    "players = team('bilal','hassan',10)"
   ]
  },
  {
   "cell_type": "code",
   "execution_count": 86,
   "id": "85580ae1",
   "metadata": {},
   "outputs": [
    {
     "data": {
      "text/plain": [
       "'talha'"
      ]
     },
     "execution_count": 86,
     "metadata": {},
     "output_type": "execute_result"
    }
   ],
   "source": [
    "players.first_name"
   ]
  },
  {
   "cell_type": "code",
   "execution_count": 87,
   "id": "70f103bf",
   "metadata": {},
   "outputs": [
    {
     "data": {
      "text/plain": [
       "11"
      ]
     },
     "execution_count": 87,
     "metadata": {},
     "output_type": "execute_result"
    }
   ],
   "source": [
    "players.age"
   ]
  },
  {
   "cell_type": "code",
   "execution_count": 88,
   "id": "8cb9f933",
   "metadata": {},
   "outputs": [
    {
     "data": {
      "text/plain": [
       "11"
      ]
     },
     "execution_count": 88,
     "metadata": {},
     "output_type": "execute_result"
    }
   ],
   "source": [
    "players.age"
   ]
  },
  {
   "cell_type": "code",
   "execution_count": 89,
   "id": "b5070301",
   "metadata": {},
   "outputs": [],
   "source": [
    "players.change_name('Muhammad')"
   ]
  },
  {
   "cell_type": "code",
   "execution_count": 92,
   "id": "0cf78f86",
   "metadata": {},
   "outputs": [
    {
     "data": {
      "text/plain": [
       "'Muhammad'"
      ]
     },
     "execution_count": 92,
     "metadata": {},
     "output_type": "execute_result"
    }
   ],
   "source": [
    "players.first_name"
   ]
  },
  {
   "cell_type": "markdown",
   "id": "65bce143",
   "metadata": {},
   "source": [
    "# File handling in python"
   ]
  },
  {
   "cell_type": "code",
   "execution_count": null,
   "id": "15851976",
   "metadata": {},
   "outputs": [],
   "source": []
  }
 ],
 "metadata": {
  "kernelspec": {
   "display_name": "Python 3 (ipykernel)",
   "language": "python",
   "name": "python3"
  },
  "language_info": {
   "codemirror_mode": {
    "name": "ipython",
    "version": 3
   },
   "file_extension": ".py",
   "mimetype": "text/x-python",
   "name": "python",
   "nbconvert_exporter": "python",
   "pygments_lexer": "ipython3",
   "version": "3.11.5"
  }
 },
 "nbformat": 4,
 "nbformat_minor": 5
}
