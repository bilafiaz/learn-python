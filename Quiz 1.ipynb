{
 "cells": [
  {
   "cell_type": "markdown",
   "metadata": {},
   "source": [
    "# Quiz 1:\n",
    "#### Scenario 01: Employee Performance Evaluation\n",
    "\n",
    "In a large corporation, the HR department needs to evaluate the performance of employees based on their sales records and customer satisfaction ratings. They want to identify the top-performing employees based on a weighted score that combines sales performance and customer satisfaction.\n",
    "\n",
    "Hint: Use List comprehemsion & Lambda Functions\n",
    "\n",
    "# Sample data: List of tuples containing employee names, sales figures, and customer satisfaction ratings\n",
    "\n",
    "employees = [\n",
    "    (\"John\", 50000, 4.5),\n",
    "    (\"Alice\", 60000, 4.7),\n",
    "    (\"Bob\", 45000, 4.2),\n",
    "    (\"Emma\", 55000, 4.6),\n",
    "    (\"James\", 48000, 4.4)\n",
    "]\n",
    "\n",
    "# Define weights for sales performance and customer satisfaction ratings\n",
    "sales_weight = 0.6\n",
    "satisfaction_weight = 0.4"
   ]
  },
  {
   "cell_type": "code",
   "execution_count": 24,
   "metadata": {},
   "outputs": [
    {
     "name": "stdout",
     "output_type": "stream",
     "text": [
      "[('Alice', 36001.88), ('Emma', 33001.84), ('John', 30001.8), ('James', 28801.76), ('Bob', 27001.68)]\n"
     ]
    }
   ],
   "source": [
    "employees = [(\"John\", 50000, 4.5), (\"Alice\", 60000, 4.7), (\"Bob\", 45000, 4.2), (\"Emma\", 55000, 4.6), (\"James\", 48000, 4.4)]\n",
    "\n",
    "sales_weight = 0.6\n",
    "satisfaction_weight = 0.4\n",
    "\n",
    "weighted_scores = sorted([(i[0], i[1] * sales_weight + i[2] * satisfaction_weight) for i in employees],key=lambda x: x[1],reverse = True)\n",
    "print(weighted_scores)"
   ]
  },
  {
   "cell_type": "markdown",
   "metadata": {},
   "source": [
    "# Scenario 02: Calculating Square Roots of Even Numbers\n",
    "\n",
    "Imagine you're tasked with calculating the square roots of even numbers from 1 to 10 using list comprehension and lambda functions."
   ]
  },
  {
   "cell_type": "code",
   "execution_count": 9,
   "metadata": {},
   "outputs": [
    {
     "name": "stdout",
     "output_type": "stream",
     "text": [
      "[1.4142135623730951, 2.0, 2.449489742783178, 2.8284271247461903, 3.1622776601683795]\n"
     ]
    }
   ],
   "source": [
    "even_nums = [i**0.5 for i in range(1,11) if i%2==0]\n",
    "print(even_nums)"
   ]
  },
  {
   "cell_type": "code",
   "execution_count": null,
   "metadata": {},
   "outputs": [],
   "source": []
  }
 ],
 "metadata": {
  "kernelspec": {
   "display_name": "Python 3 (ipykernel)",
   "language": "python",
   "name": "python3"
  },
  "language_info": {
   "codemirror_mode": {
    "name": "ipython",
    "version": 3
   },
   "file_extension": ".py",
   "mimetype": "text/x-python",
   "name": "python",
   "nbconvert_exporter": "python",
   "pygments_lexer": "ipython3",
   "version": "3.11.5"
  }
 },
 "nbformat": 4,
 "nbformat_minor": 2
}
